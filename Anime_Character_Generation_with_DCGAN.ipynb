{
  "nbformat": 4,
  "nbformat_minor": 0,
  "metadata": {
    "colab": {
      "name": "Anime Character Generation with DCGAN.ipynb",
      "version": "0.3.2",
      "provenance": [],
      "include_colab_link": true
    },
    "kernelspec": {
      "name": "python3",
      "display_name": "Python 3"
    },
    "accelerator": "GPU"
  },
  "cells": [
    {
      "cell_type": "markdown",
      "metadata": {
        "id": "view-in-github",
        "colab_type": "text"
      },
      "source": [
        "<a href=\"https://colab.research.google.com/github/CleanPegasus/Anime_generation_with_DCGAN/blob/master/Anime_Character_Generation_with_DCGAN.ipynb\" target=\"_parent\"><img src=\"https://colab.research.google.com/assets/colab-badge.svg\" alt=\"Open In Colab\"/></a>"
      ]
    },
    {
      "cell_type": "code",
      "metadata": {
        "id": "ZLvcJCOGFS_l",
        "colab_type": "code",
        "colab": {
          "base_uri": "https://localhost:8080/",
          "height": 343
        },
        "outputId": "db0958e9-fbb1-43f4-99bb-80d60b86c542"
      },
      "source": [
        "!pip install PyDrive"
      ],
      "execution_count": 1,
      "outputs": [
        {
          "output_type": "stream",
          "text": [
            "Collecting PyDrive\n",
            "\u001b[?25l  Downloading https://files.pythonhosted.org/packages/52/e0/0e64788e5dd58ce2d6934549676243dc69d982f198524be9b99e9c2a4fd5/PyDrive-1.3.1.tar.gz (987kB)\n",
            "\r\u001b[K     |▎                               | 10kB 17.2MB/s eta 0:00:01\r\u001b[K     |▋                               | 20kB 24.2MB/s eta 0:00:01\r\u001b[K     |█                               | 30kB 30.1MB/s eta 0:00:01\r\u001b[K     |█▎                              | 40kB 34.5MB/s eta 0:00:01\r\u001b[K     |█▋                              | 51kB 38.6MB/s eta 0:00:01\r\u001b[K     |██                              | 61kB 42.3MB/s eta 0:00:01\r\u001b[K     |██▎                             | 71kB 44.5MB/s eta 0:00:01\r\u001b[K     |██▋                             | 81kB 45.9MB/s eta 0:00:01\r\u001b[K     |███                             | 92kB 48.7MB/s eta 0:00:01\r\u001b[K     |███▎                            | 102kB 51.0MB/s eta 0:00:01\r\u001b[K     |███▋                            | 112kB 51.0MB/s eta 0:00:01\r\u001b[K     |████                            | 122kB 51.0MB/s eta 0:00:01\r\u001b[K     |████▎                           | 133kB 51.0MB/s eta 0:00:01\r\u001b[K     |████▋                           | 143kB 51.0MB/s eta 0:00:01\r\u001b[K     |█████                           | 153kB 51.0MB/s eta 0:00:01\r\u001b[K     |█████▎                          | 163kB 51.0MB/s eta 0:00:01\r\u001b[K     |█████▋                          | 174kB 51.0MB/s eta 0:00:01\r\u001b[K     |██████                          | 184kB 51.0MB/s eta 0:00:01\r\u001b[K     |██████▎                         | 194kB 51.0MB/s eta 0:00:01\r\u001b[K     |██████▋                         | 204kB 51.0MB/s eta 0:00:01\r\u001b[K     |███████                         | 215kB 51.0MB/s eta 0:00:01\r\u001b[K     |███████▎                        | 225kB 51.0MB/s eta 0:00:01\r\u001b[K     |███████▋                        | 235kB 51.0MB/s eta 0:00:01\r\u001b[K     |████████                        | 245kB 51.0MB/s eta 0:00:01\r\u001b[K     |████████▎                       | 256kB 51.0MB/s eta 0:00:01\r\u001b[K     |████████▋                       | 266kB 51.0MB/s eta 0:00:01\r\u001b[K     |█████████                       | 276kB 51.0MB/s eta 0:00:01\r\u001b[K     |█████████▎                      | 286kB 51.0MB/s eta 0:00:01\r\u001b[K     |█████████▋                      | 296kB 51.0MB/s eta 0:00:01\r\u001b[K     |██████████                      | 307kB 51.0MB/s eta 0:00:01\r\u001b[K     |██████████▎                     | 317kB 51.0MB/s eta 0:00:01\r\u001b[K     |██████████▋                     | 327kB 51.0MB/s eta 0:00:01\r\u001b[K     |███████████                     | 337kB 51.0MB/s eta 0:00:01\r\u001b[K     |███████████▎                    | 348kB 51.0MB/s eta 0:00:01\r\u001b[K     |███████████▋                    | 358kB 51.0MB/s eta 0:00:01\r\u001b[K     |████████████                    | 368kB 51.0MB/s eta 0:00:01\r\u001b[K     |████████████▎                   | 378kB 51.0MB/s eta 0:00:01\r\u001b[K     |████████████▋                   | 389kB 51.0MB/s eta 0:00:01\r\u001b[K     |█████████████                   | 399kB 51.0MB/s eta 0:00:01\r\u001b[K     |█████████████▎                  | 409kB 51.0MB/s eta 0:00:01\r\u001b[K     |█████████████▋                  | 419kB 51.0MB/s eta 0:00:01\r\u001b[K     |██████████████                  | 430kB 51.0MB/s eta 0:00:01\r\u001b[K     |██████████████▎                 | 440kB 51.0MB/s eta 0:00:01\r\u001b[K     |██████████████▋                 | 450kB 51.0MB/s eta 0:00:01\r\u001b[K     |███████████████                 | 460kB 51.0MB/s eta 0:00:01\r\u001b[K     |███████████████▎                | 471kB 51.0MB/s eta 0:00:01\r\u001b[K     |███████████████▋                | 481kB 51.0MB/s eta 0:00:01\r\u001b[K     |████████████████                | 491kB 51.0MB/s eta 0:00:01\r\u001b[K     |████████████████▎               | 501kB 51.0MB/s eta 0:00:01\r\u001b[K     |████████████████▋               | 512kB 51.0MB/s eta 0:00:01\r\u001b[K     |█████████████████               | 522kB 51.0MB/s eta 0:00:01\r\u001b[K     |█████████████████▎              | 532kB 51.0MB/s eta 0:00:01\r\u001b[K     |█████████████████▋              | 542kB 51.0MB/s eta 0:00:01\r\u001b[K     |██████████████████              | 552kB 51.0MB/s eta 0:00:01\r\u001b[K     |██████████████████▎             | 563kB 51.0MB/s eta 0:00:01\r\u001b[K     |██████████████████▋             | 573kB 51.0MB/s eta 0:00:01\r\u001b[K     |███████████████████             | 583kB 51.0MB/s eta 0:00:01\r\u001b[K     |███████████████████▎            | 593kB 51.0MB/s eta 0:00:01\r\u001b[K     |███████████████████▋            | 604kB 51.0MB/s eta 0:00:01\r\u001b[K     |████████████████████            | 614kB 51.0MB/s eta 0:00:01\r\u001b[K     |████████████████████▎           | 624kB 51.0MB/s eta 0:00:01\r\u001b[K     |████████████████████▋           | 634kB 51.0MB/s eta 0:00:01\r\u001b[K     |█████████████████████           | 645kB 51.0MB/s eta 0:00:01\r\u001b[K     |█████████████████████▎          | 655kB 51.0MB/s eta 0:00:01\r\u001b[K     |█████████████████████▋          | 665kB 51.0MB/s eta 0:00:01\r\u001b[K     |██████████████████████          | 675kB 51.0MB/s eta 0:00:01\r\u001b[K     |██████████████████████▎         | 686kB 51.0MB/s eta 0:00:01\r\u001b[K     |██████████████████████▋         | 696kB 51.0MB/s eta 0:00:01\r\u001b[K     |███████████████████████         | 706kB 51.0MB/s eta 0:00:01\r\u001b[K     |███████████████████████▎        | 716kB 51.0MB/s eta 0:00:01\r\u001b[K     |███████████████████████▋        | 727kB 51.0MB/s eta 0:00:01\r\u001b[K     |████████████████████████        | 737kB 51.0MB/s eta 0:00:01\r\u001b[K     |████████████████████████▎       | 747kB 51.0MB/s eta 0:00:01\r\u001b[K     |████████████████████████▋       | 757kB 51.0MB/s eta 0:00:01\r\u001b[K     |████████████████████████▉       | 768kB 51.0MB/s eta 0:00:01\r\u001b[K     |█████████████████████████▏      | 778kB 51.0MB/s eta 0:00:01\r\u001b[K     |█████████████████████████▌      | 788kB 51.0MB/s eta 0:00:01\r\u001b[K     |█████████████████████████▉      | 798kB 51.0MB/s eta 0:00:01\r\u001b[K     |██████████████████████████▏     | 808kB 51.0MB/s eta 0:00:01\r\u001b[K     |██████████████████████████▌     | 819kB 51.0MB/s eta 0:00:01\r\u001b[K     |██████████████████████████▉     | 829kB 51.0MB/s eta 0:00:01\r\u001b[K     |███████████████████████████▏    | 839kB 51.0MB/s eta 0:00:01\r\u001b[K     |███████████████████████████▌    | 849kB 51.0MB/s eta 0:00:01\r\u001b[K     |███████████████████████████▉    | 860kB 51.0MB/s eta 0:00:01\r\u001b[K     |████████████████████████████▏   | 870kB 51.0MB/s eta 0:00:01\r\u001b[K     |████████████████████████████▌   | 880kB 51.0MB/s eta 0:00:01\r\u001b[K     |████████████████████████████▉   | 890kB 51.0MB/s eta 0:00:01\r\u001b[K     |█████████████████████████████▏  | 901kB 51.0MB/s eta 0:00:01\r\u001b[K     |█████████████████████████████▌  | 911kB 51.0MB/s eta 0:00:01\r\u001b[K     |█████████████████████████████▉  | 921kB 51.0MB/s eta 0:00:01\r\u001b[K     |██████████████████████████████▏ | 931kB 51.0MB/s eta 0:00:01\r\u001b[K     |██████████████████████████████▌ | 942kB 51.0MB/s eta 0:00:01\r\u001b[K     |██████████████████████████████▉ | 952kB 51.0MB/s eta 0:00:01\r\u001b[K     |███████████████████████████████▏| 962kB 51.0MB/s eta 0:00:01\r\u001b[K     |███████████████████████████████▌| 972kB 51.0MB/s eta 0:00:01\r\u001b[K     |███████████████████████████████▉| 983kB 51.0MB/s eta 0:00:01\r\u001b[K     |████████████████████████████████| 993kB 51.0MB/s \n",
            "\u001b[?25hRequirement already satisfied: google-api-python-client>=1.2 in /usr/local/lib/python3.6/dist-packages (from PyDrive) (1.6.7)\n",
            "Requirement already satisfied: oauth2client>=4.0.0 in /usr/local/lib/python3.6/dist-packages (from PyDrive) (4.1.3)\n",
            "Requirement already satisfied: PyYAML>=3.0 in /usr/local/lib/python3.6/dist-packages (from PyDrive) (3.13)\n",
            "Requirement already satisfied: six<2dev,>=1.6.1 in /usr/local/lib/python3.6/dist-packages (from google-api-python-client>=1.2->PyDrive) (1.12.0)\n",
            "Requirement already satisfied: uritemplate<4dev,>=3.0.0 in /usr/local/lib/python3.6/dist-packages (from google-api-python-client>=1.2->PyDrive) (3.0.0)\n",
            "Requirement already satisfied: httplib2<1dev,>=0.9.2 in /usr/local/lib/python3.6/dist-packages (from google-api-python-client>=1.2->PyDrive) (0.11.3)\n",
            "Requirement already satisfied: pyasn1>=0.1.7 in /usr/local/lib/python3.6/dist-packages (from oauth2client>=4.0.0->PyDrive) (0.4.5)\n",
            "Requirement already satisfied: rsa>=3.1.4 in /usr/local/lib/python3.6/dist-packages (from oauth2client>=4.0.0->PyDrive) (4.0)\n",
            "Requirement already satisfied: pyasn1-modules>=0.0.5 in /usr/local/lib/python3.6/dist-packages (from oauth2client>=4.0.0->PyDrive) (0.2.5)\n",
            "Building wheels for collected packages: PyDrive\n",
            "  Building wheel for PyDrive (setup.py) ... \u001b[?25l\u001b[?25hdone\n",
            "  Stored in directory: /root/.cache/pip/wheels/fa/d2/9a/d3b6b506c2da98289e5d417215ce34b696db856643bad779f4\n",
            "Successfully built PyDrive\n",
            "Installing collected packages: PyDrive\n",
            "Successfully installed PyDrive-1.3.1\n"
          ],
          "name": "stdout"
        }
      ]
    },
    {
      "cell_type": "code",
      "metadata": {
        "id": "iI0eAZskLbh3",
        "colab_type": "code",
        "colab": {
          "base_uri": "https://localhost:8080/",
          "height": 71
        },
        "outputId": "a85bcb17-d5ed-4e73-beb1-c2ea0f52af58"
      },
      "source": [
        "!pip install --upgrade scipy"
      ],
      "execution_count": 75,
      "outputs": [
        {
          "output_type": "stream",
          "text": [
            "Requirement already up-to-date: scipy in /usr/local/lib/python3.6/dist-packages (1.3.0)\n",
            "Requirement already satisfied, skipping upgrade: numpy>=1.13.3 in /usr/local/lib/python3.6/dist-packages (from scipy) (1.16.3)\n"
          ],
          "name": "stdout"
        }
      ]
    },
    {
      "cell_type": "code",
      "metadata": {
        "id": "OXzoi7zHE-wa",
        "colab_type": "code",
        "colab": {}
      },
      "source": [
        "import os \n",
        "from pydrive.auth import GoogleAuth\n",
        "from pydrive.drive import GoogleDrive\n",
        "from google.colab import auth\n",
        "from oauth2client.client import GoogleCredentials"
      ],
      "execution_count": 0,
      "outputs": []
    },
    {
      "cell_type": "code",
      "metadata": {
        "id": "GSNf_V3JFMj1",
        "colab_type": "code",
        "colab": {}
      },
      "source": [
        "auth.authenticate_user()\n",
        "gauth = GoogleAuth()\n",
        "gauth.credentials = GoogleCredentials.get_application_default()\n",
        "drive = GoogleDrive(gauth)"
      ],
      "execution_count": 0,
      "outputs": []
    },
    {
      "cell_type": "code",
      "metadata": {
        "id": "4YdA-yXkFxL9",
        "colab_type": "code",
        "colab": {}
      },
      "source": [
        "download = drive.CreateFile({'id': '0B4wZXrs0DHMHMEl1ODVpMjRTWEk'})\n",
        "download.GetContentFile('anime-faces.tar.gz')"
      ],
      "execution_count": 0,
      "outputs": []
    },
    {
      "cell_type": "code",
      "metadata": {
        "id": "lyx9FXlQNnnR",
        "colab_type": "code",
        "colab": {
          "base_uri": "https://localhost:8080/",
          "height": 34
        },
        "outputId": "ff677ca1-a3c5-4d4a-86c7-57f3af8dcc5d"
      },
      "source": [
        "ls"
      ],
      "execution_count": 26,
      "outputs": [
        {
          "output_type": "stream",
          "text": [
            "adc.json  \u001b[0m\u001b[01;34manime-faces\u001b[0m/  anime-faces.tar.gz  \u001b[01;34msample_data\u001b[0m/\n"
          ],
          "name": "stdout"
        }
      ]
    },
    {
      "cell_type": "code",
      "metadata": {
        "id": "JMy6sUMfNpvg",
        "colab_type": "code",
        "colab": {}
      },
      "source": [
        "!tar -xvzf anime-faces.tar.gz"
      ],
      "execution_count": 0,
      "outputs": []
    },
    {
      "cell_type": "code",
      "metadata": {
        "id": "xag5PXA7iooT",
        "colab_type": "code",
        "colab": {
          "base_uri": "https://localhost:8080/",
          "height": 34
        },
        "outputId": "aa1ef255-451c-4c98-b7f5-09d47928ff75"
      },
      "source": [
        "cd anime-faces"
      ],
      "execution_count": 1,
      "outputs": [
        {
          "output_type": "stream",
          "text": [
            "/content/anime-faces\n"
          ],
          "name": "stdout"
        }
      ]
    },
    {
      "cell_type": "code",
      "metadata": {
        "id": "CZXQ2Dx6l5Iu",
        "colab_type": "code",
        "colab": {
          "base_uri": "https://localhost:8080/",
          "height": 731
        },
        "outputId": "7d6b1bb4-f9eb-44d7-fd39-6dfcbc1069b3"
      },
      "source": [
        "ls"
      ],
      "execution_count": 2,
      "outputs": [
        {
          "output_type": "stream",
          "text": [
            " \u001b[0m\u001b[01;34m1boy\u001b[0m/                \u001b[01;34mgreen_eyes\u001b[0m/          \u001b[01;34mpointy_ears\u001b[0m/\n",
            " \u001b[01;34m1girl\u001b[0m/               \u001b[01;34mgreen_hair\u001b[0m/          \u001b[01;34mponytail\u001b[0m/\n",
            " \u001b[01;34mahoge\u001b[0m/               \u001b[01;34mhairband\u001b[0m/            \u001b[01;34mpurple_eyes\u001b[0m/\n",
            " \u001b[01;34makaza_akari\u001b[0m/         \u001b[01;34mhair_bow\u001b[0m/            \u001b[01;34mpurple_hair\u001b[0m/\n",
            " \u001b[01;34makemi_homura\u001b[0m/        \u001b[01;34mhairclip\u001b[0m/            \u001b[01;34mred_background\u001b[0m/\n",
            " \u001b[01;34manimal_ears\u001b[0m/         \u001b[01;34mhair_flower\u001b[0m/         \u001b[01;34mred_eyes\u001b[0m/\n",
            " \u001b[01;34mapron\u001b[0m/               \u001b[01;34mhair_ornament\u001b[0m/       \u001b[01;34mred_hair\u001b[0m/\n",
            " \u001b[01;34maqua_eyes\u001b[0m/           \u001b[01;34mhair_ribbon\u001b[0m/        \u001b[01;34m'rem_(re:zero)'\u001b[0m/\n",
            " \u001b[01;34maqua_hair\u001b[0m/           \u001b[01;34mhakurei_reimu\u001b[0m/       \u001b[01;34mribbon\u001b[0m/\n",
            " \u001b[01;34marmor\u001b[0m/               \u001b[01;34mhat\u001b[0m/                 \u001b[01;34msanta_costume\u001b[0m/\n",
            " \u001b[01;34mayanami_rei\u001b[0m/         \u001b[01;34mheadphones\u001b[0m/          \u001b[01;34mscarf\u001b[0m/\n",
            " \u001b[01;34mayase_eli\u001b[0m/           \u001b[01;34mhonma_meiko\u001b[0m/         \u001b[01;34mschool_uniform\u001b[0m/\n",
            " \u001b[01;34mbare_shoulders\u001b[0m/      \u001b[01;34mhoshizora_rin\u001b[0m/       \u001b[01;34mserafuku\u001b[0m/\n",
            " \u001b[01;34mblack_background\u001b[0m/    \u001b[01;34mjapanese_clothes\u001b[0m/    \u001b[01;34mshort_hair\u001b[0m/\n",
            " \u001b[01;34mblack_eyes\u001b[0m/          \u001b[01;34mkaname_madoka\u001b[0m/       \u001b[01;34mside_ponytail\u001b[0m/\n",
            " \u001b[01;34mblack_hair\u001b[0m/          \u001b[01;34mkimono\u001b[0m/              \u001b[01;34msilver_hair\u001b[0m/\n",
            " \u001b[01;34mblazer\u001b[0m/              \u001b[01;34mkirisame_marisa\u001b[0m/     \u001b[01;34msimple_background\u001b[0m/\n",
            " \u001b[01;34mblonde_hair\u001b[0m/         \u001b[01;34mkoizumi_hanayo\u001b[0m/      \u001b[01;34msky\u001b[0m/\n",
            " \u001b[01;34mblue_background\u001b[0m/     \u001b[01;34mkousaka_honoka\u001b[0m/      \u001b[01;34msmile\u001b[0m/\n",
            " \u001b[01;34mblue_eyes\u001b[0m/           \u001b[01;34mlong_hair\u001b[0m/           \u001b[01;34msonoda_umi\u001b[0m/\n",
            " \u001b[01;34mblue_hair\u001b[0m/           \u001b[01;34mlooking_at_viewer\u001b[0m/   \u001b[01;34msouryuu_asuka_langley\u001b[0m/\n",
            " \u001b[01;34mblush\u001b[0m/               \u001b[01;34mlooking_back\u001b[0m/        \u001b[01;34mspeech_bubble\u001b[0m/\n",
            " \u001b[01;34mbow\u001b[0m/                 \u001b[01;34mmagical_girl\u001b[0m/        \u001b[01;34msunglasses\u001b[0m/\n",
            " \u001b[01;34mbraid\u001b[0m/               \u001b[01;34mmaid\u001b[0m/                \u001b[01;34msuzumiya_haruhi\u001b[0m/\n",
            " \u001b[01;34mbreasts\u001b[0m/             \u001b[01;34mmiki_sayaka\u001b[0m/         \u001b[01;34msweat\u001b[0m/\n",
            " \u001b[01;34mbrown_eyes\u001b[0m/          \u001b[01;34mmilitary\u001b[0m/            \u001b[01;34msweatdrop\u001b[0m/\n",
            " \u001b[01;34mbrown_hair\u001b[0m/          \u001b[01;34mminami_kotori\u001b[0m/       \u001b[01;34mswimsuit\u001b[0m/\n",
            " \u001b[01;34mbunny_ears\u001b[0m/          \u001b[01;34mmisaka_mikoto\u001b[0m/       \u001b[01;34mtears\u001b[0m/\n",
            " \u001b[01;34mcape\u001b[0m/                \u001b[01;34mmiyanaga_saki\u001b[0m/       \u001b[01;34mtomoe_mami\u001b[0m/\n",
            " \u001b[01;34mcat_ears\u001b[0m/            \u001b[01;34mmonochrome\u001b[0m/          \u001b[01;34mtongue\u001b[0m/\n",
            " \u001b[01;34mchoker\u001b[0m/              \u001b[01;34mnagato_yuki\u001b[0m/         \u001b[01;34mtongue_out\u001b[0m/\n",
            " \u001b[01;34mclosed_eyes\u001b[0m/         \u001b[01;34mnecklace\u001b[0m/            \u001b[01;34mtoujou_nozomi\u001b[0m/\n",
            " \u001b[01;34mcollarbone\u001b[0m/          \u001b[01;34mnecktie\u001b[0m/             \u001b[01;34mtwintails\u001b[0m/\n",
            " \u001b[01;34mcomic\u001b[0m/               \u001b[01;34mnight\u001b[0m/               \u001b[01;34munderwear\u001b[0m/\n",
            " \u001b[01;34m:d\u001b[0m/                  \u001b[01;34mnishikino_maki\u001b[0m/      \u001b[01;34muniform\u001b[0m/\n",
            " \u001b[01;34mdress\u001b[0m/               \u001b[01;34mnishizumi_miho\u001b[0m/      \u001b[01;34mvery_long_hair\u001b[0m/\n",
            " \u001b[01;34mearrings\u001b[0m/            \u001b[01;34m:o\u001b[0m/                  \u001b[01;34mwater\u001b[0m/\n",
            "\u001b[01;34m'emilia_(re:zero)'\u001b[0m/   \u001b[01;34mone_eye_closed\u001b[0m/      \u001b[01;34mwhite_background\u001b[0m/\n",
            " \u001b[01;34mfate_testarossa\u001b[0m/     \u001b[01;34mopen_mouth\u001b[0m/          \u001b[01;34mwhite_hair\u001b[0m/\n",
            " \u001b[01;34mflower\u001b[0m/              \u001b[01;34morange_hair\u001b[0m/         \u001b[01;34mwitch_hat\u001b[0m/\n",
            " \u001b[01;34mfrills\u001b[0m/              \u001b[01;34mpink_eyes\u001b[0m/           \u001b[01;34myazawa_nico\u001b[0m/\n",
            " \u001b[01;34mglasses\u001b[0m/             \u001b[01;34mpink_hair\u001b[0m/           \u001b[01;34myellow_eyes\u001b[0m/\n"
          ],
          "name": "stdout"
        }
      ]
    },
    {
      "cell_type": "code",
      "metadata": {
        "id": "92g1TrEcmSw8",
        "colab_type": "code",
        "colab": {}
      },
      "source": [
        "!rm -rf yellow_eyes yazawa_nico witch_hat water very_long_hair nishizumi_miho nishikino_maki sonada_umi underwear open_mouth"
      ],
      "execution_count": 0,
      "outputs": []
    },
    {
      "cell_type": "code",
      "metadata": {
        "id": "m1KfvO73ksBu",
        "colab_type": "code",
        "colab": {}
      },
      "source": [
        "!rm config.json annotations.csv"
      ],
      "execution_count": 0,
      "outputs": []
    },
    {
      "cell_type": "code",
      "metadata": {
        "id": "0a1w2Bj0imgo",
        "colab_type": "code",
        "colab": {
          "base_uri": "https://localhost:8080/",
          "height": 34
        },
        "outputId": "e2fd4843-b1fa-4df2-dd36-37babe439e2b"
      },
      "source": [
        "!rm -v ._.DS_Store .DS_Store"
      ],
      "execution_count": 22,
      "outputs": [
        {
          "output_type": "stream",
          "text": [
            "removed '._.DS_Store'\n"
          ],
          "name": "stdout"
        }
      ]
    },
    {
      "cell_type": "code",
      "metadata": {
        "id": "djKOJvo5ko2a",
        "colab_type": "code",
        "colab": {}
      },
      "source": [
        "ls"
      ],
      "execution_count": 0,
      "outputs": []
    },
    {
      "cell_type": "code",
      "metadata": {
        "id": "4IB7UmcmirvY",
        "colab_type": "code",
        "colab": {
          "base_uri": "https://localhost:8080/",
          "height": 34
        },
        "outputId": "42dd2255-cc48-41c6-bde8-af4bc38066ed"
      },
      "source": [
        "cd .."
      ],
      "execution_count": 12,
      "outputs": [
        {
          "output_type": "stream",
          "text": [
            "/content\n"
          ],
          "name": "stdout"
        }
      ]
    },
    {
      "cell_type": "code",
      "metadata": {
        "id": "yfZi83lxPjt5",
        "colab_type": "code",
        "colab": {
          "base_uri": "https://localhost:8080/",
          "height": 34
        },
        "outputId": "78c7e405-228e-40a7-8fea-5572249c0ca7"
      },
      "source": [
        "import math\n",
        "import numpy as np\n",
        "import matplotlib.pyplot as plt\n",
        "import cv2\n",
        "import glob\n",
        "import time\n",
        "import os\n",
        "from PIL import Image\n",
        "\n",
        "import tensorflow as tf\n",
        "from keras import Input, Model\n",
        "from keras.applications import InceptionResNetV2\n",
        "from keras.callbacks import TensorBoard\n",
        "from keras.layers import Conv2D, Flatten, Dense, BatchNormalization, Reshape, concatenate, LeakyReLU, Lambda, Conv2DTranspose, Activation, UpSampling2D, Dropout, ReLU, MaxPooling2D\n",
        "from keras.optimizers import Adam, SGD\n",
        "from keras.utils import to_categorical\n",
        "from keras_preprocessing import image\n",
        "from keras.models import load_model, Sequential\n",
        "import keras.backend as K"
      ],
      "execution_count": 1,
      "outputs": [
        {
          "output_type": "stream",
          "text": [
            "Using TensorFlow backend.\n"
          ],
          "name": "stderr"
        }
      ]
    },
    {
      "cell_type": "code",
      "metadata": {
        "id": "KVw5yCnber1M",
        "colab_type": "code",
        "colab": {}
      },
      "source": [
        "def load_images(src):\n",
        "  #src= 'anime-faces'\n",
        "  image_data = []\n",
        "  count = 0\n",
        "  for file in os.listdir(src):\n",
        "    file_path = os.path.join(src, file)\n",
        "    for image in os.listdir(file_path):\n",
        "      if not image.startswith('.'):\n",
        "        img_path = os.path.join(file_path, image)    \n",
        "        #print(img_path)\n",
        "        img = cv2.imread(img_path)\n",
        "        img = cv2.resize(img, (64, 64))\n",
        "        #print(img.shape)\n",
        "        img = (img-127.5)/127.5\n",
        "        image_data.append(img)\n",
        "        count = count + 1\n",
        "        #print(len(image_data))\n",
        "        \n",
        "        if count > 50000:\n",
        "          #print(\"Break\")\n",
        "          break\n",
        "          \n",
        "  image_data = np.asarray(image_data)\n",
        "  #print(image_data.shape)\n",
        "  #image_data = (image_data - 127.5)/127.5\n",
        "  return(image_data)\n",
        "          "
      ],
      "execution_count": 0,
      "outputs": []
    },
    {
      "cell_type": "code",
      "metadata": {
        "id": "3-T8SlHjTtuu",
        "colab_type": "code",
        "colab": {}
      },
      "source": [
        ""
      ],
      "execution_count": 0,
      "outputs": []
    },
    {
      "cell_type": "code",
      "metadata": {
        "id": "7CcLd14QfXoy",
        "colab_type": "code",
        "colab": {}
      },
      "source": [
        ""
      ],
      "execution_count": 0,
      "outputs": []
    },
    {
      "cell_type": "code",
      "metadata": {
        "id": "FPIMrymNNu9J",
        "colab_type": "code",
        "colab": {}
      },
      "source": [
        "def build_gen():\n",
        "  \n",
        "  \n",
        "  gen_model = Sequential()\n",
        "  gen_model.add(Dense(units = 2048))\n",
        "  gen_model.add(LeakyReLU(alpha = 0.2))\n",
        "  \n",
        "  gen_model.add(Dense(246 * 8 * 8))\n",
        "  gen_model.add(BatchNormalization())\n",
        "  gen_model.add(LeakyReLU(alpha = 0.2))\n",
        "  \n",
        "  gen_model.add(Reshape((8, 8, 256), input_shape = (256 * 8 * 8,)))\n",
        "  gen_model.add(UpSampling2D(size = (2, 2)))\n",
        "  gen_model.add(Conv2D(128, (5, 5), padding = 'same'))\n",
        "  gen_model.add(LeakyReLU(alpha = 0.2))\n",
        "  \n",
        "  gen_model.add(UpSampling2D(size = (2, 2)))\n",
        "  gen_model.add(Conv2D(64, (5, 5), padding = 'same'))\n",
        "  gen_model.add(LeakyReLU(alpha = 0.2))\n",
        "  \n",
        "  gen_model.add(UpSampling2D(size = (2, 2)))\n",
        "  gen_model.add(Conv2D(3, (5, 5), padding = 'same'))\n",
        "  gen_model.add(ReLU())\n",
        "  \n",
        "  return gen_model"
      ],
      "execution_count": 0,
      "outputs": []
    },
    {
      "cell_type": "code",
      "metadata": {
        "id": "lQ3eJHBgqsVM",
        "colab_type": "code",
        "colab": {}
      },
      "source": [
        "def build_disc():\n",
        "  \n",
        "  disc_model = Sequential()\n",
        "  \n",
        "  disc_model.add(Conv2D(128 , (5,5), padding = 'same', input_shape = (96, 96, 3)))\n",
        "  disc_model.add(LeakyReLU(alpha = 0.2))\n",
        "  disc_model.add(MaxPooling2D(pool_size = (2, 2)))\n",
        "  \n",
        "  disc_model.add(Conv2D(512 , (5,5), padding = 'same', input_shape = (96, 96, 3)))\n",
        "  disc_model.add(LeakyReLU(alpha = 0.2))\n",
        "  disc_model.add(MaxPooling2D(pool_size = (2, 2)))\n",
        "  \n",
        "  disc_model.add(Flatten())\n",
        "  \n",
        "  disc_model.add(Dense(1024))\n",
        "  disc_model.add(LeakyReLU(alpha = 0.2))\n",
        "  \n",
        "  disc_model.add(Dense(1))\n",
        "  disc_model.add(Activation('sigmoid'))\n",
        "  \n",
        "  return disc_model"
      ],
      "execution_count": 0,
      "outputs": []
    },
    {
      "cell_type": "code",
      "metadata": {
        "id": "Dv90Xo59DT9-",
        "colab_type": "code",
        "colab": {}
      },
      "source": [
        "def save_rgb_img(img, path):\n",
        "\n",
        "    fig = plt.figure()\n",
        "    ax = fig.add_subplot(1, 1, 1)\n",
        "    ax.imshow(img)\n",
        "    ax.axis(\"off\")\n",
        "    ax.set_title(\"Image\")\n",
        "\n",
        "    plt.savefig(path)\n",
        "    plt.close()"
      ],
      "execution_count": 0,
      "outputs": []
    },
    {
      "cell_type": "code",
      "metadata": {
        "id": "QuxloxHQwRSQ",
        "colab_type": "code",
        "colab": {}
      },
      "source": [
        "def train():\n",
        "  \n",
        "  start_time = time.time()\n",
        "  epochs = 10000\n",
        "  batch_size = 128\n",
        "  z_shape = 100\n",
        "  lr = 0.0005\n",
        "  momentum = 0.9\n",
        "  \n",
        "  print(\"Loading Images\")\n",
        "  \n",
        "  X = load_images('anime-faces')\n",
        "  print(X.shape)\n",
        "  \n",
        "  print(\"Images Loaded\")\n",
        "  \n",
        "  #X = (X-127.5)/127.5\n",
        "  \n",
        "  print(\"Normalized Images\")\n",
        "  \n",
        "  disc_optimizer = SGD(lr = lr, momentum = momentum, nesterov = True)\n",
        "  gen_optimizer = SGD(lr = lr, momentum = momentum, nesterov = True)\n",
        "  \n",
        "  gen_model = build_gen()\n",
        "  gen_model.compile(loss = 'binary_crossentropy', optimizer = gen_optimizer)\n",
        "  \n",
        "  disc_model = build_disc()\n",
        "  disc_model.compile(loss = 'binary_crossentropy', optimizer = disc_optimizer)\n",
        "  \n",
        "  adversarial_model = Sequential()\n",
        "  adversarial_model.add(gen_model)\n",
        "  disc_model.trainable = False\n",
        "  adversarial_model.add(disc_model)\n",
        "  \n",
        "  adversarial_model.compile(loss = 'binary_crossentropy', optimizer = gen_optimizer)\n",
        "  \n",
        "  #tensorboard = TensorBoard(log_dir = \"logs/{}\".format(time.time()), write_images = True, write_grads = True , write_graphs = True)\n",
        "  #tensorboard.set_model(gen_model)\n",
        "  #tensorboard.set_model(disc_model)\n",
        "  \n",
        "  for epoch in range(epochs):\n",
        "    \n",
        "    print(\"Epoch: \", epoch)\n",
        "    \n",
        "    number_of_batches = int(X.shape[0] / batch_size)\n",
        "    \n",
        "    print(\"Number of Batches: \", number_of_batches)\n",
        "    \n",
        "    for index in range(number_of_batches):\n",
        "      \n",
        "      # Training the generator\n",
        "      \n",
        "      z_noise = np.random.normal(0, 1, size = (batch_size, z_shape))\n",
        "      \n",
        "      image_batch = X[index * batch_size : (index + 1) * batch_size]\n",
        "      \n",
        "      generated_images = gen_model.predict_on_batch(z_noise)\n",
        "      \n",
        "      y_real = np.ones(batch_size) - np.random.random_sample(batch_size) * 0.2\n",
        "      \n",
        "      y_fake = np.random.random_sample(batch_size) * 0.2\n",
        "      \n",
        "      disc_loss_real = disc_model.train_on_batch(image_batch, y_real)\n",
        "      disc_loss_fake = disc_model.train_on_batch(generated_images, y_fake)\n",
        "      \n",
        "      disc_loss = np.mean(disc_loss_real, disc_loss_fake)\n",
        "      print(\"Discriminator Loss: \", disc_loss)\n",
        "      \n",
        "      \n",
        "      # Training the adversarial\n",
        "      \n",
        "      z_noise = np.random.normal(0, 1, size = (batch_size, z_shape))\n",
        "      \n",
        "      gen_loss = adversarial_model.train_on_batch(z_noise, [1] * batch_size)\n",
        "      \n",
        "      print(\"Generator Loss: \", gen_loss)\n",
        "      \n",
        "      if epoch % 20 == 0:\n",
        "        \n",
        "        z_noise = np.random.normal(0, 1, size = (batch_size, z_shape))\n",
        "        gen_images1 = gen_model.predict_on_batch(z_noise)\n",
        "        \n",
        "        for index, img in enumerate(gen_images1[:2]):\n",
        "          save_rgb_img(img, \"results/image_generated_{}_{}.png\".format(epoch, index))\n",
        "          \n",
        "        gen_model.save(\"generator.h5\")\n",
        "        disc_model.save(\"discriminator.h5\")\n",
        "        \n",
        "        \n",
        "  print(\"Time:\", (time.time() - start_time))"
      ],
      "execution_count": 0,
      "outputs": []
    },
    {
      "cell_type": "code",
      "metadata": {
        "id": "yw8Fcb0qIfdA",
        "colab_type": "code",
        "colab": {
          "base_uri": "https://localhost:8080/",
          "height": 1329
        },
        "outputId": "c94c6420-b357-4ed2-fb19-20690eacdd16"
      },
      "source": [
        "if __name__ == '__main__':\n",
        "  train()"
      ],
      "execution_count": 7,
      "outputs": [
        {
          "output_type": "stream",
          "text": [
            "Loading Images\n",
            "(50065, 64, 64, 3)\n",
            "Images Loaded\n",
            "Normalized Images\n",
            "WARNING:tensorflow:From /usr/local/lib/python3.6/dist-packages/tensorflow/python/framework/op_def_library.py:263: colocate_with (from tensorflow.python.framework.ops) is deprecated and will be removed in a future version.\n",
            "Instructions for updating:\n",
            "Colocations handled automatically by placer.\n",
            "Epoch:  0\n",
            "Number of Batches:  391\n"
          ],
          "name": "stdout"
        },
        {
          "output_type": "error",
          "ename": "ValueError",
          "evalue": "ignored",
          "traceback": [
            "\u001b[0;31m---------------------------------------------------------------------------\u001b[0m",
            "\u001b[0;31mValueError\u001b[0m                                Traceback (most recent call last)",
            "\u001b[0;32m<ipython-input-7-0acc50100cdd>\u001b[0m in \u001b[0;36m<module>\u001b[0;34m()\u001b[0m\n\u001b[1;32m      1\u001b[0m \u001b[0;32mif\u001b[0m \u001b[0m__name__\u001b[0m \u001b[0;34m==\u001b[0m \u001b[0;34m'__main__'\u001b[0m\u001b[0;34m:\u001b[0m\u001b[0;34m\u001b[0m\u001b[0;34m\u001b[0m\u001b[0m\n\u001b[0;32m----> 2\u001b[0;31m   \u001b[0mtrain\u001b[0m\u001b[0;34m(\u001b[0m\u001b[0;34m)\u001b[0m\u001b[0;34m\u001b[0m\u001b[0;34m\u001b[0m\u001b[0m\n\u001b[0m",
            "\u001b[0;32m<ipython-input-6-2313b5aff352>\u001b[0m in \u001b[0;36mtrain\u001b[0;34m()\u001b[0m\n\u001b[1;32m     55\u001b[0m       \u001b[0mimage_batch\u001b[0m \u001b[0;34m=\u001b[0m \u001b[0mX\u001b[0m\u001b[0;34m[\u001b[0m\u001b[0mindex\u001b[0m \u001b[0;34m*\u001b[0m \u001b[0mbatch_size\u001b[0m \u001b[0;34m:\u001b[0m \u001b[0;34m(\u001b[0m\u001b[0mindex\u001b[0m \u001b[0;34m+\u001b[0m \u001b[0;36m1\u001b[0m\u001b[0;34m)\u001b[0m \u001b[0;34m*\u001b[0m \u001b[0mbatch_size\u001b[0m\u001b[0;34m]\u001b[0m\u001b[0;34m\u001b[0m\u001b[0;34m\u001b[0m\u001b[0m\n\u001b[1;32m     56\u001b[0m \u001b[0;34m\u001b[0m\u001b[0m\n\u001b[0;32m---> 57\u001b[0;31m       \u001b[0mgenerated_images\u001b[0m \u001b[0;34m=\u001b[0m \u001b[0mgen_model\u001b[0m\u001b[0;34m.\u001b[0m\u001b[0mpredict_on_batch\u001b[0m\u001b[0;34m(\u001b[0m\u001b[0mz_noise\u001b[0m\u001b[0;34m)\u001b[0m\u001b[0;34m\u001b[0m\u001b[0;34m\u001b[0m\u001b[0m\n\u001b[0m\u001b[1;32m     58\u001b[0m \u001b[0;34m\u001b[0m\u001b[0m\n\u001b[1;32m     59\u001b[0m       \u001b[0my_real\u001b[0m \u001b[0;34m=\u001b[0m \u001b[0mnp\u001b[0m\u001b[0;34m.\u001b[0m\u001b[0mones\u001b[0m\u001b[0;34m(\u001b[0m\u001b[0mbatch_size\u001b[0m\u001b[0;34m)\u001b[0m \u001b[0;34m-\u001b[0m \u001b[0mnp\u001b[0m\u001b[0;34m.\u001b[0m\u001b[0mrandom\u001b[0m\u001b[0;34m.\u001b[0m\u001b[0mrandom_sample\u001b[0m\u001b[0;34m(\u001b[0m\u001b[0mbatch_size\u001b[0m\u001b[0;34m)\u001b[0m \u001b[0;34m*\u001b[0m \u001b[0;36m0.2\u001b[0m\u001b[0;34m\u001b[0m\u001b[0;34m\u001b[0m\u001b[0m\n",
            "\u001b[0;32m/usr/local/lib/python3.6/dist-packages/keras/engine/training.py\u001b[0m in \u001b[0;36mpredict_on_batch\u001b[0;34m(self, x)\u001b[0m\n\u001b[1;32m   1266\u001b[0m             \u001b[0mNumpy\u001b[0m \u001b[0marray\u001b[0m\u001b[0;34m(\u001b[0m\u001b[0ms\u001b[0m\u001b[0;34m)\u001b[0m \u001b[0mof\u001b[0m \u001b[0mpredictions\u001b[0m\u001b[0;34m.\u001b[0m\u001b[0;34m\u001b[0m\u001b[0;34m\u001b[0m\u001b[0m\n\u001b[1;32m   1267\u001b[0m         \"\"\"\n\u001b[0;32m-> 1268\u001b[0;31m         \u001b[0mx\u001b[0m\u001b[0;34m,\u001b[0m \u001b[0m_\u001b[0m\u001b[0;34m,\u001b[0m \u001b[0m_\u001b[0m \u001b[0;34m=\u001b[0m \u001b[0mself\u001b[0m\u001b[0;34m.\u001b[0m\u001b[0m_standardize_user_data\u001b[0m\u001b[0;34m(\u001b[0m\u001b[0mx\u001b[0m\u001b[0;34m)\u001b[0m\u001b[0;34m\u001b[0m\u001b[0;34m\u001b[0m\u001b[0m\n\u001b[0m\u001b[1;32m   1269\u001b[0m         \u001b[0;32mif\u001b[0m \u001b[0mself\u001b[0m\u001b[0;34m.\u001b[0m\u001b[0m_uses_dynamic_learning_phase\u001b[0m\u001b[0;34m(\u001b[0m\u001b[0;34m)\u001b[0m\u001b[0;34m:\u001b[0m\u001b[0;34m\u001b[0m\u001b[0;34m\u001b[0m\u001b[0m\n\u001b[1;32m   1270\u001b[0m             \u001b[0mins\u001b[0m \u001b[0;34m=\u001b[0m \u001b[0mx\u001b[0m \u001b[0;34m+\u001b[0m \u001b[0;34m[\u001b[0m\u001b[0;36m0.\u001b[0m\u001b[0;34m]\u001b[0m\u001b[0;34m\u001b[0m\u001b[0;34m\u001b[0m\u001b[0m\n",
            "\u001b[0;32m/usr/local/lib/python3.6/dist-packages/keras/engine/training.py\u001b[0m in \u001b[0;36m_standardize_user_data\u001b[0;34m(self, x, y, sample_weight, class_weight, check_array_lengths, batch_size)\u001b[0m\n\u001b[1;32m    675\u001b[0m             \u001b[0;31m# to match the value shapes.\u001b[0m\u001b[0;34m\u001b[0m\u001b[0;34m\u001b[0m\u001b[0;34m\u001b[0m\u001b[0m\n\u001b[1;32m    676\u001b[0m             \u001b[0;32mif\u001b[0m \u001b[0;32mnot\u001b[0m \u001b[0mself\u001b[0m\u001b[0;34m.\u001b[0m\u001b[0minputs\u001b[0m\u001b[0;34m:\u001b[0m\u001b[0;34m\u001b[0m\u001b[0;34m\u001b[0m\u001b[0m\n\u001b[0;32m--> 677\u001b[0;31m                 \u001b[0mself\u001b[0m\u001b[0;34m.\u001b[0m\u001b[0m_set_inputs\u001b[0m\u001b[0;34m(\u001b[0m\u001b[0mx\u001b[0m\u001b[0;34m)\u001b[0m\u001b[0;34m\u001b[0m\u001b[0;34m\u001b[0m\u001b[0m\n\u001b[0m\u001b[1;32m    678\u001b[0m \u001b[0;34m\u001b[0m\u001b[0m\n\u001b[1;32m    679\u001b[0m         \u001b[0;32mif\u001b[0m \u001b[0my\u001b[0m \u001b[0;32mis\u001b[0m \u001b[0;32mnot\u001b[0m \u001b[0;32mNone\u001b[0m\u001b[0;34m:\u001b[0m\u001b[0;34m\u001b[0m\u001b[0;34m\u001b[0m\u001b[0m\n",
            "\u001b[0;32m/usr/local/lib/python3.6/dist-packages/keras/engine/training.py\u001b[0m in \u001b[0;36m_set_inputs\u001b[0;34m(self, inputs, outputs, training)\u001b[0m\n\u001b[1;32m    587\u001b[0m                 \u001b[0;32massert\u001b[0m \u001b[0mlen\u001b[0m\u001b[0;34m(\u001b[0m\u001b[0minputs\u001b[0m\u001b[0;34m)\u001b[0m \u001b[0;34m==\u001b[0m \u001b[0;36m1\u001b[0m\u001b[0;34m\u001b[0m\u001b[0;34m\u001b[0m\u001b[0m\n\u001b[1;32m    588\u001b[0m                 \u001b[0minputs\u001b[0m \u001b[0;34m=\u001b[0m \u001b[0minputs\u001b[0m\u001b[0;34m[\u001b[0m\u001b[0;36m0\u001b[0m\u001b[0;34m]\u001b[0m\u001b[0;34m\u001b[0m\u001b[0;34m\u001b[0m\u001b[0m\n\u001b[0;32m--> 589\u001b[0;31m             \u001b[0mself\u001b[0m\u001b[0;34m.\u001b[0m\u001b[0mbuild\u001b[0m\u001b[0;34m(\u001b[0m\u001b[0minput_shape\u001b[0m\u001b[0;34m=\u001b[0m\u001b[0;34m(\u001b[0m\u001b[0;32mNone\u001b[0m\u001b[0;34m,\u001b[0m\u001b[0;34m)\u001b[0m \u001b[0;34m+\u001b[0m \u001b[0minputs\u001b[0m\u001b[0;34m.\u001b[0m\u001b[0mshape\u001b[0m\u001b[0;34m[\u001b[0m\u001b[0;36m1\u001b[0m\u001b[0;34m:\u001b[0m\u001b[0;34m]\u001b[0m\u001b[0;34m)\u001b[0m\u001b[0;34m\u001b[0m\u001b[0;34m\u001b[0m\u001b[0m\n\u001b[0m\u001b[1;32m    590\u001b[0m             \u001b[0;32mreturn\u001b[0m\u001b[0;34m\u001b[0m\u001b[0;34m\u001b[0m\u001b[0m\n\u001b[1;32m    591\u001b[0m \u001b[0;34m\u001b[0m\u001b[0m\n",
            "\u001b[0;32m/usr/local/lib/python3.6/dist-packages/keras/engine/sequential.py\u001b[0m in \u001b[0;36mbuild\u001b[0;34m(self, input_shape)\u001b[0m\n\u001b[1;32m    219\u001b[0m             \u001b[0mself\u001b[0m\u001b[0;34m.\u001b[0m\u001b[0minputs\u001b[0m \u001b[0;34m=\u001b[0m \u001b[0;34m[\u001b[0m\u001b[0mx\u001b[0m\u001b[0;34m]\u001b[0m\u001b[0;34m\u001b[0m\u001b[0;34m\u001b[0m\u001b[0m\n\u001b[1;32m    220\u001b[0m             \u001b[0;32mfor\u001b[0m \u001b[0mlayer\u001b[0m \u001b[0;32min\u001b[0m \u001b[0mself\u001b[0m\u001b[0;34m.\u001b[0m\u001b[0m_layers\u001b[0m\u001b[0;34m:\u001b[0m\u001b[0;34m\u001b[0m\u001b[0;34m\u001b[0m\u001b[0m\n\u001b[0;32m--> 221\u001b[0;31m                 \u001b[0mx\u001b[0m \u001b[0;34m=\u001b[0m \u001b[0mlayer\u001b[0m\u001b[0;34m(\u001b[0m\u001b[0mx\u001b[0m\u001b[0;34m)\u001b[0m\u001b[0;34m\u001b[0m\u001b[0;34m\u001b[0m\u001b[0m\n\u001b[0m\u001b[1;32m    222\u001b[0m             \u001b[0mself\u001b[0m\u001b[0;34m.\u001b[0m\u001b[0moutputs\u001b[0m \u001b[0;34m=\u001b[0m \u001b[0;34m[\u001b[0m\u001b[0mx\u001b[0m\u001b[0;34m]\u001b[0m\u001b[0;34m\u001b[0m\u001b[0;34m\u001b[0m\u001b[0m\n\u001b[1;32m    223\u001b[0m             \u001b[0mself\u001b[0m\u001b[0;34m.\u001b[0m\u001b[0m_build_input_shape\u001b[0m \u001b[0;34m=\u001b[0m \u001b[0minput_shape\u001b[0m\u001b[0;34m\u001b[0m\u001b[0;34m\u001b[0m\u001b[0m\n",
            "\u001b[0;32m/usr/local/lib/python3.6/dist-packages/keras/engine/base_layer.py\u001b[0m in \u001b[0;36m__call__\u001b[0;34m(self, inputs, **kwargs)\u001b[0m\n\u001b[1;32m    472\u001b[0m             if all([s is not None\n\u001b[1;32m    473\u001b[0m                     for s in to_list(input_shape)]):\n\u001b[0;32m--> 474\u001b[0;31m                 \u001b[0moutput_shape\u001b[0m \u001b[0;34m=\u001b[0m \u001b[0mself\u001b[0m\u001b[0;34m.\u001b[0m\u001b[0mcompute_output_shape\u001b[0m\u001b[0;34m(\u001b[0m\u001b[0minput_shape\u001b[0m\u001b[0;34m)\u001b[0m\u001b[0;34m\u001b[0m\u001b[0;34m\u001b[0m\u001b[0m\n\u001b[0m\u001b[1;32m    475\u001b[0m             \u001b[0;32melse\u001b[0m\u001b[0;34m:\u001b[0m\u001b[0;34m\u001b[0m\u001b[0;34m\u001b[0m\u001b[0m\n\u001b[1;32m    476\u001b[0m                 \u001b[0;32mif\u001b[0m \u001b[0misinstance\u001b[0m\u001b[0;34m(\u001b[0m\u001b[0minput_shape\u001b[0m\u001b[0;34m,\u001b[0m \u001b[0mlist\u001b[0m\u001b[0;34m)\u001b[0m\u001b[0;34m:\u001b[0m\u001b[0;34m\u001b[0m\u001b[0;34m\u001b[0m\u001b[0m\n",
            "\u001b[0;32m/usr/local/lib/python3.6/dist-packages/keras/layers/core.py\u001b[0m in \u001b[0;36mcompute_output_shape\u001b[0;34m(self, input_shape)\u001b[0m\n\u001b[1;32m    396\u001b[0m             \u001b[0;31m# input shape known? then we can compute the output shape\u001b[0m\u001b[0;34m\u001b[0m\u001b[0;34m\u001b[0m\u001b[0;34m\u001b[0m\u001b[0m\n\u001b[1;32m    397\u001b[0m             return (input_shape[0],) + self._fix_unknown_dimension(\n\u001b[0;32m--> 398\u001b[0;31m                 input_shape[1:], self.target_shape)\n\u001b[0m\u001b[1;32m    399\u001b[0m \u001b[0;34m\u001b[0m\u001b[0m\n\u001b[1;32m    400\u001b[0m     \u001b[0;32mdef\u001b[0m \u001b[0mcall\u001b[0m\u001b[0;34m(\u001b[0m\u001b[0mself\u001b[0m\u001b[0;34m,\u001b[0m \u001b[0minputs\u001b[0m\u001b[0;34m)\u001b[0m\u001b[0;34m:\u001b[0m\u001b[0;34m\u001b[0m\u001b[0;34m\u001b[0m\u001b[0m\n",
            "\u001b[0;32m/usr/local/lib/python3.6/dist-packages/keras/layers/core.py\u001b[0m in \u001b[0;36m_fix_unknown_dimension\u001b[0;34m(self, input_shape, output_shape)\u001b[0m\n\u001b[1;32m    384\u001b[0m             \u001b[0moutput_shape\u001b[0m\u001b[0;34m[\u001b[0m\u001b[0munknown\u001b[0m\u001b[0;34m]\u001b[0m \u001b[0;34m=\u001b[0m \u001b[0moriginal\u001b[0m \u001b[0;34m//\u001b[0m \u001b[0mknown\u001b[0m\u001b[0;34m\u001b[0m\u001b[0;34m\u001b[0m\u001b[0m\n\u001b[1;32m    385\u001b[0m         \u001b[0;32melif\u001b[0m \u001b[0moriginal\u001b[0m \u001b[0;34m!=\u001b[0m \u001b[0mknown\u001b[0m\u001b[0;34m:\u001b[0m\u001b[0;34m\u001b[0m\u001b[0;34m\u001b[0m\u001b[0m\n\u001b[0;32m--> 386\u001b[0;31m             \u001b[0;32mraise\u001b[0m \u001b[0mValueError\u001b[0m\u001b[0;34m(\u001b[0m\u001b[0mmsg\u001b[0m\u001b[0;34m)\u001b[0m\u001b[0;34m\u001b[0m\u001b[0;34m\u001b[0m\u001b[0m\n\u001b[0m\u001b[1;32m    387\u001b[0m \u001b[0;34m\u001b[0m\u001b[0m\n\u001b[1;32m    388\u001b[0m         \u001b[0;32mreturn\u001b[0m \u001b[0mtuple\u001b[0m\u001b[0;34m(\u001b[0m\u001b[0moutput_shape\u001b[0m\u001b[0;34m)\u001b[0m\u001b[0;34m\u001b[0m\u001b[0;34m\u001b[0m\u001b[0m\n",
            "\u001b[0;31mValueError\u001b[0m: total size of new array must be unchanged"
          ]
        }
      ]
    },
    {
      "cell_type": "code",
      "metadata": {
        "id": "-Ol9ZiPGIf5o",
        "colab_type": "code",
        "colab": {}
      },
      "source": [
        ""
      ],
      "execution_count": 0,
      "outputs": []
    }
  ]
}